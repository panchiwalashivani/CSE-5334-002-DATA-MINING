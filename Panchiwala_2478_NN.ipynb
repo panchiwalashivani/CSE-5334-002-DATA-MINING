{
 "cells": [
  {
   "cell_type": "markdown",
   "metadata": {},
   "source": [
    "# PA 2: Classification - Nearest Neighbors"
   ]
  },
  {
   "cell_type": "markdown",
   "metadata": {},
   "source": [
    "## Student Details\n",
    "\n",
    "#Student Name and ID of the member submitting the assignment:\n",
    "\n",
    "Shivani Manojkumar Panchiwala - 1001982478\n",
    "\n",
    "\n",
    "#Student Name and ID of the remaining members: \n",
    "\n",
    "Kuldip Rameshbhai Savaliya - 1001832000 &\n",
    "\n",
    "Meghaben Ghanshyambhai Patel - 1002006777"
   ]
  },
  {
   "cell_type": "markdown",
   "metadata": {},
   "source": [
    "## Programming Assignment Submission Instructions (2 Points)\n",
    "\n",
    "Step 1: Rename this submission file as 'yourLastName_Last4digitsofyourID_DT.ipynb' [1 point]\n",
    "\n",
    "Step 2: Place this file inside the folder 'PA#2_Classification_yourLastName'  [1 point]"
   ]
  },
  {
   "cell_type": "markdown",
   "metadata": {},
   "source": [
    "## Programming Assignment Details (25 Points)\n",
    "\n",
    "For this assignment use Jupyter notebook, Panda, and scikit.\n",
    "\n",
    " * Load pima-indians-diabetes dataset from sklearn datasets. Output/prediction variable is 'class'[1 points]\n",
    " * while selecting best 3 attributes for training,validating and testing your model. [2 points]\n",
    " * Find the best K. [3 points]\n",
    " * Split your dataset - 60% for training set, 20% for Validation set and 20% for testing set the classifier. Use random state as 2022 [2 points]\n",
    " * Use minkowski distance.[1 points]\n",
    " * Test the classifier with three different numbers for neighbors and record the results for training, validation and testing. Show the best one.[3 points]\n",
    " * Use comments to explain your code and variable names.[4 points]\n",
    " * Calculate and print the confusion matrix, and the classification Report (includes:precision, recall, f1-score, and support) for all three different numbers.[6 points]\n",
    " * Plot the classifier in a 2D projection.[3 points]"
   ]
  },
  {
   "cell_type": "markdown",
   "metadata": {},
   "source": [
    "# Load pima-indians-diabetes dataset"
   ]
  },
  {
   "cell_type": "code",
   "execution_count": 1,
   "metadata": {},
   "outputs": [],
   "source": [
    "#packages\n",
    "import numpy as np\n",
    "import pandas as pd\n",
    "import seaborn as sns\n",
    "import matplotlib.pyplot as plt\n"
   ]
  },
  {
   "cell_type": "code",
   "execution_count": 2,
   "metadata": {},
   "outputs": [
    {
     "data": {
      "text/html": [
       "<div>\n",
       "<style scoped>\n",
       "    .dataframe tbody tr th:only-of-type {\n",
       "        vertical-align: middle;\n",
       "    }\n",
       "\n",
       "    .dataframe tbody tr th {\n",
       "        vertical-align: top;\n",
       "    }\n",
       "\n",
       "    .dataframe thead th {\n",
       "        text-align: right;\n",
       "    }\n",
       "</style>\n",
       "<table border=\"1\" class=\"dataframe\">\n",
       "  <thead>\n",
       "    <tr style=\"text-align: right;\">\n",
       "      <th></th>\n",
       "      <th>Preg</th>\n",
       "      <th>Plas</th>\n",
       "      <th>Pres</th>\n",
       "      <th>skin</th>\n",
       "      <th>test</th>\n",
       "      <th>mass</th>\n",
       "      <th>pedi</th>\n",
       "      <th>age</th>\n",
       "      <th>class</th>\n",
       "    </tr>\n",
       "  </thead>\n",
       "  <tbody>\n",
       "    <tr>\n",
       "      <th>0</th>\n",
       "      <td>6</td>\n",
       "      <td>148</td>\n",
       "      <td>72</td>\n",
       "      <td>35</td>\n",
       "      <td>0</td>\n",
       "      <td>33.6</td>\n",
       "      <td>0.627</td>\n",
       "      <td>50</td>\n",
       "      <td>1</td>\n",
       "    </tr>\n",
       "    <tr>\n",
       "      <th>1</th>\n",
       "      <td>1</td>\n",
       "      <td>85</td>\n",
       "      <td>66</td>\n",
       "      <td>29</td>\n",
       "      <td>0</td>\n",
       "      <td>26.6</td>\n",
       "      <td>0.351</td>\n",
       "      <td>31</td>\n",
       "      <td>0</td>\n",
       "    </tr>\n",
       "    <tr>\n",
       "      <th>2</th>\n",
       "      <td>8</td>\n",
       "      <td>183</td>\n",
       "      <td>64</td>\n",
       "      <td>0</td>\n",
       "      <td>0</td>\n",
       "      <td>23.3</td>\n",
       "      <td>0.672</td>\n",
       "      <td>32</td>\n",
       "      <td>1</td>\n",
       "    </tr>\n",
       "    <tr>\n",
       "      <th>3</th>\n",
       "      <td>1</td>\n",
       "      <td>89</td>\n",
       "      <td>66</td>\n",
       "      <td>23</td>\n",
       "      <td>94</td>\n",
       "      <td>28.1</td>\n",
       "      <td>0.167</td>\n",
       "      <td>21</td>\n",
       "      <td>0</td>\n",
       "    </tr>\n",
       "    <tr>\n",
       "      <th>4</th>\n",
       "      <td>0</td>\n",
       "      <td>137</td>\n",
       "      <td>40</td>\n",
       "      <td>35</td>\n",
       "      <td>168</td>\n",
       "      <td>43.1</td>\n",
       "      <td>2.288</td>\n",
       "      <td>33</td>\n",
       "      <td>1</td>\n",
       "    </tr>\n",
       "  </tbody>\n",
       "</table>\n",
       "</div>"
      ],
      "text/plain": [
       "   Preg  Plas  Pres  skin  test  mass   pedi  age  class\n",
       "0     6   148    72    35     0  33.6  0.627   50      1\n",
       "1     1    85    66    29     0  26.6  0.351   31      0\n",
       "2     8   183    64     0     0  23.3  0.672   32      1\n",
       "3     1    89    66    23    94  28.1  0.167   21      0\n",
       "4     0   137    40    35   168  43.1  2.288   33      1"
      ]
     },
     "execution_count": 2,
     "metadata": {},
     "output_type": "execute_result"
    }
   ],
   "source": [
    "df = pd.read_csv(\"pima-indians-diabetes.csv\") # Read the CSV File\n",
    "df.head() # Get first 5 rows of dataframe\n",
    "#https://www.shanelynn.ie/python-pandas-read-csv-load-data-from-csv-files/"
   ]
  },
  {
   "cell_type": "code",
   "execution_count": 3,
   "metadata": {},
   "outputs": [
    {
     "data": {
      "text/plain": [
       "Preg     0\n",
       "Plas     0\n",
       "Pres     0\n",
       "skin     0\n",
       "test     0\n",
       "mass     0\n",
       "pedi     0\n",
       "age      0\n",
       "class    0\n",
       "dtype: int64"
      ]
     },
     "execution_count": 3,
     "metadata": {},
     "output_type": "execute_result"
    }
   ],
   "source": [
    "# Finding missing values of the columns\n",
    "df.isnull().sum()\n",
    "#https://note.nkmk.me/en/python-pandas-nan-judge-count/"
   ]
  },
  {
   "cell_type": "code",
   "execution_count": 4,
   "metadata": {},
   "outputs": [
    {
     "name": "stdout",
     "output_type": "stream",
     "text": [
      "<class 'pandas.core.frame.DataFrame'>\n",
      "RangeIndex: 768 entries, 0 to 767\n",
      "Data columns (total 9 columns):\n",
      " #   Column  Non-Null Count  Dtype  \n",
      "---  ------  --------------  -----  \n",
      " 0   Preg    768 non-null    int64  \n",
      " 1   Plas    768 non-null    int64  \n",
      " 2   Pres    768 non-null    int64  \n",
      " 3   skin    768 non-null    int64  \n",
      " 4   test    768 non-null    int64  \n",
      " 5   mass    768 non-null    float64\n",
      " 6   pedi    768 non-null    float64\n",
      " 7   age     768 non-null    int64  \n",
      " 8   class   768 non-null    int64  \n",
      "dtypes: float64(2), int64(7)\n",
      "memory usage: 54.1 KB\n"
     ]
    }
   ],
   "source": [
    "df.info() "
   ]
  },
  {
   "cell_type": "code",
   "execution_count": 5,
   "metadata": {},
   "outputs": [
    {
     "data": {
      "text/html": [
       "<div>\n",
       "<style scoped>\n",
       "    .dataframe tbody tr th:only-of-type {\n",
       "        vertical-align: middle;\n",
       "    }\n",
       "\n",
       "    .dataframe tbody tr th {\n",
       "        vertical-align: top;\n",
       "    }\n",
       "\n",
       "    .dataframe thead th {\n",
       "        text-align: right;\n",
       "    }\n",
       "</style>\n",
       "<table border=\"1\" class=\"dataframe\">\n",
       "  <thead>\n",
       "    <tr style=\"text-align: right;\">\n",
       "      <th></th>\n",
       "      <th>Preg</th>\n",
       "      <th>Plas</th>\n",
       "      <th>Pres</th>\n",
       "      <th>skin</th>\n",
       "      <th>test</th>\n",
       "      <th>mass</th>\n",
       "      <th>pedi</th>\n",
       "      <th>age</th>\n",
       "      <th>class</th>\n",
       "    </tr>\n",
       "  </thead>\n",
       "  <tbody>\n",
       "    <tr>\n",
       "      <th>count</th>\n",
       "      <td>768.000000</td>\n",
       "      <td>768.000000</td>\n",
       "      <td>768.000000</td>\n",
       "      <td>768.000000</td>\n",
       "      <td>768.000000</td>\n",
       "      <td>768.000000</td>\n",
       "      <td>768.000000</td>\n",
       "      <td>768.000000</td>\n",
       "      <td>768.000000</td>\n",
       "    </tr>\n",
       "    <tr>\n",
       "      <th>mean</th>\n",
       "      <td>3.845052</td>\n",
       "      <td>120.894531</td>\n",
       "      <td>69.105469</td>\n",
       "      <td>20.536458</td>\n",
       "      <td>79.799479</td>\n",
       "      <td>31.992578</td>\n",
       "      <td>0.471876</td>\n",
       "      <td>33.240885</td>\n",
       "      <td>0.348958</td>\n",
       "    </tr>\n",
       "    <tr>\n",
       "      <th>std</th>\n",
       "      <td>3.369578</td>\n",
       "      <td>31.972618</td>\n",
       "      <td>19.355807</td>\n",
       "      <td>15.952218</td>\n",
       "      <td>115.244002</td>\n",
       "      <td>7.884160</td>\n",
       "      <td>0.331329</td>\n",
       "      <td>11.760232</td>\n",
       "      <td>0.476951</td>\n",
       "    </tr>\n",
       "    <tr>\n",
       "      <th>min</th>\n",
       "      <td>0.000000</td>\n",
       "      <td>0.000000</td>\n",
       "      <td>0.000000</td>\n",
       "      <td>0.000000</td>\n",
       "      <td>0.000000</td>\n",
       "      <td>0.000000</td>\n",
       "      <td>0.078000</td>\n",
       "      <td>21.000000</td>\n",
       "      <td>0.000000</td>\n",
       "    </tr>\n",
       "    <tr>\n",
       "      <th>25%</th>\n",
       "      <td>1.000000</td>\n",
       "      <td>99.000000</td>\n",
       "      <td>62.000000</td>\n",
       "      <td>0.000000</td>\n",
       "      <td>0.000000</td>\n",
       "      <td>27.300000</td>\n",
       "      <td>0.243750</td>\n",
       "      <td>24.000000</td>\n",
       "      <td>0.000000</td>\n",
       "    </tr>\n",
       "    <tr>\n",
       "      <th>50%</th>\n",
       "      <td>3.000000</td>\n",
       "      <td>117.000000</td>\n",
       "      <td>72.000000</td>\n",
       "      <td>23.000000</td>\n",
       "      <td>30.500000</td>\n",
       "      <td>32.000000</td>\n",
       "      <td>0.372500</td>\n",
       "      <td>29.000000</td>\n",
       "      <td>0.000000</td>\n",
       "    </tr>\n",
       "    <tr>\n",
       "      <th>75%</th>\n",
       "      <td>6.000000</td>\n",
       "      <td>140.250000</td>\n",
       "      <td>80.000000</td>\n",
       "      <td>32.000000</td>\n",
       "      <td>127.250000</td>\n",
       "      <td>36.600000</td>\n",
       "      <td>0.626250</td>\n",
       "      <td>41.000000</td>\n",
       "      <td>1.000000</td>\n",
       "    </tr>\n",
       "    <tr>\n",
       "      <th>max</th>\n",
       "      <td>17.000000</td>\n",
       "      <td>199.000000</td>\n",
       "      <td>122.000000</td>\n",
       "      <td>99.000000</td>\n",
       "      <td>846.000000</td>\n",
       "      <td>67.100000</td>\n",
       "      <td>2.420000</td>\n",
       "      <td>81.000000</td>\n",
       "      <td>1.000000</td>\n",
       "    </tr>\n",
       "  </tbody>\n",
       "</table>\n",
       "</div>"
      ],
      "text/plain": [
       "             Preg        Plas        Pres        skin        test        mass  \\\n",
       "count  768.000000  768.000000  768.000000  768.000000  768.000000  768.000000   \n",
       "mean     3.845052  120.894531   69.105469   20.536458   79.799479   31.992578   \n",
       "std      3.369578   31.972618   19.355807   15.952218  115.244002    7.884160   \n",
       "min      0.000000    0.000000    0.000000    0.000000    0.000000    0.000000   \n",
       "25%      1.000000   99.000000   62.000000    0.000000    0.000000   27.300000   \n",
       "50%      3.000000  117.000000   72.000000   23.000000   30.500000   32.000000   \n",
       "75%      6.000000  140.250000   80.000000   32.000000  127.250000   36.600000   \n",
       "max     17.000000  199.000000  122.000000   99.000000  846.000000   67.100000   \n",
       "\n",
       "             pedi         age       class  \n",
       "count  768.000000  768.000000  768.000000  \n",
       "mean     0.471876   33.240885    0.348958  \n",
       "std      0.331329   11.760232    0.476951  \n",
       "min      0.078000   21.000000    0.000000  \n",
       "25%      0.243750   24.000000    0.000000  \n",
       "50%      0.372500   29.000000    0.000000  \n",
       "75%      0.626250   41.000000    1.000000  \n",
       "max      2.420000   81.000000    1.000000  "
      ]
     },
     "execution_count": 5,
     "metadata": {},
     "output_type": "execute_result"
    }
   ],
   "source": [
    "df.describe()"
   ]
  },
  {
   "cell_type": "markdown",
   "metadata": {},
   "source": [
    "# Selecting best 3 attributes for training,validating and testing the model"
   ]
  },
  {
   "cell_type": "code",
   "execution_count": 6,
   "metadata": {},
   "outputs": [
    {
     "data": {
      "image/png": "[encoded data removed]",
      "text/plain": [
       "<Figure size 432x288 with 2 Axes>"
      ]
     },
     "metadata": {
      "needs_background": "light"
     },
     "output_type": "display_data"
    }
   ],
   "source": [
    "# Correlation Matrix for finding best attributes\n",
    "\n",
    "sns.heatmap(df.corr(),annot=True)\n",
    "plt.show()\n",
    "#https://likegeeks.com/python-correlation-matrix/"
   ]
  },
  {
   "cell_type": "code",
   "execution_count": 7,
   "metadata": {},
   "outputs": [],
   "source": [
    "## The target variable is 'class'\n",
    "\n",
    "X = df[['Preg','Plas','Pres','skin','test','mass','pedi','age']]\n",
    "\n",
    "y = df['class']\n",
    "\n",
    "#Note: 0 — Non Diabetic Patient and 1 — Diabetic Patient"
   ]
  },
  {
   "cell_type": "markdown",
   "metadata": {},
   "source": [
    "# Find the best K using UNIVARIATE FEATURE SELECTION"
   ]
  },
  {
   "cell_type": "code",
   "execution_count": 8,
   "metadata": {},
   "outputs": [
    {
     "name": "stdout",
     "output_type": "stream",
     "text": [
      "  Attributes        Score\n",
      "4       test  2175.565273\n",
      "1       Plas  1411.887041\n",
      "7        age   181.303689\n",
      "5       mass   127.669343\n",
      "0       Preg   111.519691\n",
      "3       skin    53.108040\n",
      "2       Pres    17.605373\n"
     ]
    }
   ],
   "source": [
    "# Univariate Selection for finding best attributes\n",
    "# UNIVARIATE FEATURE SELECTION\n",
    "\n",
    "from sklearn.feature_selection import SelectKBest\n",
    "from sklearn.feature_selection import chi2\n",
    "# Apply SelectKBest class to rate attributes\n",
    "score_func = SelectKBest(score_func=chi2, k='all').fit(X,y)\n",
    "df_score = pd.DataFrame(score_func.scores_)\n",
    "df_column = pd.DataFrame(X.columns)\n",
    "# Concatenating two df_score and df_column to view the scores of corresponding columns \n",
    "feature_score = pd.concat([df_column,df_score],axis=1)\n",
    "feature_score.columns = ['Attributes','Score']\n",
    "# Print 7 best features\n",
    "print(feature_score.nlargest(7, 'Score'))\n",
    "#https://medium.com/@nmscott14/3-feature-selection-methods-e7ccd6dbf316"
   ]
  },
  {
   "cell_type": "code",
   "execution_count": 9,
   "metadata": {},
   "outputs": [
    {
     "name": "stdout",
     "output_type": "stream",
     "text": [
      "     Plas  test  age\n",
      "0     148     0   50\n",
      "1      85     0   31\n",
      "2     183     0   32\n",
      "3      89    94   21\n",
      "4     137   168   33\n",
      "..    ...   ...  ...\n",
      "763   101   180   63\n",
      "764   122     0   27\n",
      "765   121   112   30\n",
      "766   126     0   47\n",
      "767    93     0   23\n",
      "\n",
      "[768 rows x 3 columns]\n",
      "0      1\n",
      "1      0\n",
      "2      1\n",
      "3      0\n",
      "4      1\n",
      "      ..\n",
      "763    0\n",
      "764    0\n",
      "765    0\n",
      "766    1\n",
      "767    0\n",
      "Name: class, Length: 768, dtype: int64\n"
     ]
    }
   ],
   "source": [
    "# Drop other columns and keep 3 best features columns\n",
    "\n",
    "attr_drop2 = ['mass', 'Preg', 'skin', 'Pres', 'pedi']\n",
    "df = df.drop(attr_drop2, axis=1)\n",
    "X = X.drop(attr_drop2, axis=1)\n",
    "print(X)\n",
    "print(y)\n",
    "#https://stackoverflow.com/questions/13411544/delete-a-column-from-a-pandas-dataframe"
   ]
  },
  {
   "cell_type": "markdown",
   "metadata": {},
   "source": [
    "# Split dataset - 60% for training set, 20% for Validation set and 20% for testing set the classifier"
   ]
  },
  {
   "cell_type": "code",
   "execution_count": 10,
   "metadata": {},
   "outputs": [],
   "source": [
    "from sklearn.model_selection import train_test_split\n",
    "X_train, X_test, y_train, y_test = train_test_split(\n",
    "    X, y, test_size=0.2, random_state=2022)\n",
    "#print(X_train)\n",
    "X_train, X_val, y_train, y_val = train_test_split(\n",
    "    X_train, y_train, test_size=0.25, random_state=2022)\n",
    "\n",
    "#https://datascience.stackexchange.com/questions/15135/train-test-validation-set-splitting-in-sklearn"
   ]
  },
  {
   "cell_type": "markdown",
   "metadata": {},
   "source": [
    "# Another method to choosing a K Value using elbow method"
   ]
  },
  {
   "cell_type": "code",
   "execution_count": 11,
   "metadata": {},
   "outputs": [],
   "source": [
    "# Finding the Best K with minimum Error Rate\n",
    "from sklearn.neighbors import KNeighborsClassifier\n",
    "error_rate = []\n",
    "# Might take some time\n",
    "for i in range(1,40):\n",
    "    \n",
    "    knn = KNeighborsClassifier(n_neighbors=i)\n",
    "    knn.fit(X_train,y_train)\n",
    "    pred_i = knn.predict(X_test)\n",
    "    error_rate.append(np.mean(pred_i != y_test))"
   ]
  },
  {
   "cell_type": "code",
   "execution_count": 12,
   "metadata": {},
   "outputs": [
    {
     "data": {
      "text/plain": [
       "Text(0, 0.5, 'Error Rate')"
      ]
     },
     "execution_count": 12,
     "metadata": {},
     "output_type": "execute_result"
    },
    {
     "data": {
      "image/png": "[encoded data removed]",
      "text/plain": [
       "<Figure size 720x432 with 1 Axes>"
      ]
     },
     "metadata": {
      "needs_background": "light"
     },
     "output_type": "display_data"
    }
   ],
   "source": [
    "plt.figure(figsize=(10,6))\n",
    "plt.plot(range(1,40),error_rate,color='blue', linestyle='dashed', marker='o',\n",
    "         markerfacecolor='red', markersize=10)\n",
    "plt.title('Error Rate vs. K Value')\n",
    "plt.xlabel('K')\n",
    "plt.ylabel('Error Rate')\n",
    "#https://datascienceplus.com/k-nearest-neighbors-knn-with-python/"
   ]
  },
  {
   "cell_type": "code",
   "execution_count": 13,
   "metadata": {},
   "outputs": [
    {
     "name": "stdout",
     "output_type": "stream",
     "text": [
      "WITH K=8\n",
      "\n",
      "\n",
      "[[104   4]\n",
      " [ 28  18]]\n",
      "\n",
      "\n",
      "              precision    recall  f1-score   support\n",
      "\n",
      "           0       0.79      0.96      0.87       108\n",
      "           1       0.82      0.39      0.53        46\n",
      "\n",
      "    accuracy                           0.79       154\n",
      "   macro avg       0.80      0.68      0.70       154\n",
      "weighted avg       0.80      0.79      0.77       154\n",
      "\n"
     ]
    }
   ],
   "source": [
    "from sklearn.metrics import classification_report,confusion_matrix\n",
    "knn = KNeighborsClassifier(n_neighbors=8)\n",
    "knn.fit(X_train,y_train)\n",
    "pred = knn.predict(X_test)\n",
    "print('WITH K=8')\n",
    "print('\\n')\n",
    "print(confusion_matrix(y_test,pred))\n",
    "print('\\n')\n",
    "print(classification_report(y_test,pred))\n",
    "#https://datascienceplus.com/k-nearest-neighbors-knn-with-python/"
   ]
  },
  {
   "cell_type": "code",
   "execution_count": 14,
   "metadata": {},
   "outputs": [
    {
     "name": "stdout",
     "output_type": "stream",
     "text": [
      "From the graph, the value of K starts increasing from K = 8, which can be designated as the elbow. Hence, K = 8 is the best K-value\n"
     ]
    }
   ],
   "source": [
    "print(\"From the graph, the value of K starts increasing from K = 8, which can be designated as the elbow. Hence, K = 8 is the best K-value\")"
   ]
  },
  {
   "cell_type": "markdown",
   "metadata": {},
   "source": [
    "# Use minkowski distance\n",
    "# Test the classifier with three different numbers for neighbors and record the result with confusion Matrix and classification Report."
   ]
  },
  {
   "cell_type": "code",
   "execution_count": 15,
   "metadata": {
    "scrolled": true
   },
   "outputs": [
    {
     "name": "stdout",
     "output_type": "stream",
     "text": [
      "0.7922077922077922\n",
      "[[104   4]\n",
      " [ 28  18]]\n",
      "Classification Report for K =8\n",
      "               precision    recall  f1-score   support\n",
      "\n",
      "           0       0.79      0.96      0.87       108\n",
      "           1       0.82      0.39      0.53        46\n",
      "\n",
      "    accuracy                           0.79       154\n",
      "   macro avg       0.80      0.68      0.70       154\n",
      "weighted avg       0.80      0.79      0.77       154\n",
      "\n"
     ]
    }
   ],
   "source": [
    "from sklearn.neighbors import KNeighborsClassifier\n",
    "from sklearn.metrics import classification_report,confusion_matrix\n",
    "from sklearn import metrics\n",
    "from sklearn.metrics import classification_report\n",
    "\n",
    "knn1 = KNeighborsClassifier(n_neighbors = 8, metric = 'minkowski')\n",
    "knn1.fit(X_train, y_train)\n",
    "y_pred1 = knn1.predict(X_test)\n",
    "print(metrics.accuracy_score(y_test, y_pred1))\n",
    "print(confusion_matrix(y_test, y_pred1))\n",
    "print(\"Classification Report for K =8\\n\", classification_report(y_test, y_pred1))\n",
    "#https://www.ritchieng.com/machine-learning-k-nearest-neighbors-knn/"
   ]
  },
  {
   "cell_type": "code",
   "execution_count": 16,
   "metadata": {},
   "outputs": [
    {
     "name": "stdout",
     "output_type": "stream",
     "text": [
      "0.7207792207792207\n",
      "[[97 11]\n",
      " [32 14]]\n",
      "Classification Report for K =22\n",
      "               precision    recall  f1-score   support\n",
      "\n",
      "           0       0.75      0.90      0.82       108\n",
      "           1       0.56      0.30      0.39        46\n",
      "\n",
      "    accuracy                           0.72       154\n",
      "   macro avg       0.66      0.60      0.61       154\n",
      "weighted avg       0.69      0.72      0.69       154\n",
      "\n"
     ]
    }
   ],
   "source": [
    "from sklearn.neighbors import KNeighborsClassifier\n",
    "from sklearn import metrics\n",
    "knn2 = KNeighborsClassifier(n_neighbors = 22, metric = 'minkowski')\n",
    "knn2.fit(X_train, y_train)\n",
    "y_pred2 = knn2.predict(X_test)\n",
    "print(metrics.accuracy_score(y_test, y_pred2))\n",
    "print(confusion_matrix(y_test, y_pred2))\n",
    "print(\"Classification Report for K =22\\n\", classification_report(y_test, y_pred2))\n",
    "#https://www.ritchieng.com/machine-learning-k-nearest-neighbors-knn/"
   ]
  },
  {
   "cell_type": "code",
   "execution_count": 17,
   "metadata": {},
   "outputs": [
    {
     "name": "stdout",
     "output_type": "stream",
     "text": [
      "0.7467532467532467\n",
      "[[95 13]\n",
      " [26 20]]\n",
      "Classification Report for K =35\n",
      "               precision    recall  f1-score   support\n",
      "\n",
      "           0       0.79      0.88      0.83       108\n",
      "           1       0.61      0.43      0.51        46\n",
      "\n",
      "    accuracy                           0.75       154\n",
      "   macro avg       0.70      0.66      0.67       154\n",
      "weighted avg       0.73      0.75      0.73       154\n",
      "\n"
     ]
    }
   ],
   "source": [
    "from sklearn.neighbors import KNeighborsClassifier\n",
    "from sklearn import metrics\n",
    "knn3 = KNeighborsClassifier(n_neighbors = 35, metric = 'minkowski')\n",
    "knn3.fit(X_train, y_train)\n",
    "y_pred3 = knn3.predict(X_test)\n",
    "print(metrics.accuracy_score(y_test, y_pred3))\n",
    "print(confusion_matrix(y_test, y_pred3))\n",
    "print(\"Classification Report for K =35\\n\", classification_report(y_test, y_pred3))\n",
    "#https://www.ritchieng.com/machine-learning-k-nearest-neighbors-knn/"
   ]
  },
  {
   "cell_type": "markdown",
   "metadata": {},
   "source": [
    "# Use minkowski distance\n",
    "# Test the classifier with three different numbers for neighbors and record the result for the validation with confusion matrix and classification Report."
   ]
  },
  {
   "cell_type": "code",
   "execution_count": 18,
   "metadata": {},
   "outputs": [
    {
     "name": "stdout",
     "output_type": "stream",
     "text": [
      "0.7077922077922078\n",
      "[[77 11]\n",
      " [34 32]]\n",
      "Classification Report for K =8\n",
      "               precision    recall  f1-score   support\n",
      "\n",
      "           0       0.69      0.88      0.77        88\n",
      "           1       0.74      0.48      0.59        66\n",
      "\n",
      "    accuracy                           0.71       154\n",
      "   macro avg       0.72      0.68      0.68       154\n",
      "weighted avg       0.72      0.71      0.69       154\n",
      "\n"
     ]
    }
   ],
   "source": [
    "from sklearn.neighbors import KNeighborsClassifier\n",
    "from sklearn import metrics\n",
    "knn4 = KNeighborsClassifier(n_neighbors = 8, metric = 'minkowski')\n",
    "knn4.fit(X_train, y_train)\n",
    "y_pred4 = knn4.predict(X_val)\n",
    "print(metrics.accuracy_score(y_val, y_pred4))\n",
    "print(confusion_matrix(y_val, y_pred4))\n",
    "print(\"Classification Report for K =8\\n\", classification_report(y_val, y_pred4))\n",
    "#https://www.ritchieng.com/machine-learning-k-nearest-neighbors-knn/"
   ]
  },
  {
   "cell_type": "code",
   "execution_count": 19,
   "metadata": {},
   "outputs": [
    {
     "name": "stdout",
     "output_type": "stream",
     "text": [
      "0.7532467532467533\n",
      "[[83  5]\n",
      " [33 33]]\n",
      "Classification Report for K =22\n",
      "               precision    recall  f1-score   support\n",
      "\n",
      "           0       0.72      0.94      0.81        88\n",
      "           1       0.87      0.50      0.63        66\n",
      "\n",
      "    accuracy                           0.75       154\n",
      "   macro avg       0.79      0.72      0.72       154\n",
      "weighted avg       0.78      0.75      0.74       154\n",
      "\n"
     ]
    }
   ],
   "source": [
    "from sklearn.neighbors import KNeighborsClassifier\n",
    "from sklearn import metrics\n",
    "knn5 = KNeighborsClassifier(n_neighbors = 22, metric = 'minkowski')\n",
    "knn5.fit(X_train, y_train)\n",
    "y_pred5 = knn5.predict(X_val)\n",
    "print(metrics.accuracy_score(y_val, y_pred5))\n",
    "print(confusion_matrix(y_val, y_pred5))\n",
    "print(\"Classification Report for K =22\\n\", classification_report(y_val, y_pred5))\n",
    "#https://www.ritchieng.com/machine-learning-k-nearest-neighbors-knn/"
   ]
  },
  {
   "cell_type": "code",
   "execution_count": 20,
   "metadata": {},
   "outputs": [
    {
     "name": "stdout",
     "output_type": "stream",
     "text": [
      "0.7337662337662337\n",
      "[[79  9]\n",
      " [32 34]]\n",
      "Classification Report for K =35\n",
      "               precision    recall  f1-score   support\n",
      "\n",
      "           0       0.71      0.90      0.79        88\n",
      "           1       0.79      0.52      0.62        66\n",
      "\n",
      "    accuracy                           0.73       154\n",
      "   macro avg       0.75      0.71      0.71       154\n",
      "weighted avg       0.75      0.73      0.72       154\n",
      "\n"
     ]
    }
   ],
   "source": [
    "from sklearn.neighbors import KNeighborsClassifier\n",
    "from sklearn import metrics\n",
    "knn6 = KNeighborsClassifier(n_neighbors = 35, metric = 'minkowski')\n",
    "knn6.fit(X_train, y_train)\n",
    "y_pred6 = knn6.predict(X_val)\n",
    "print(metrics.accuracy_score(y_val, y_pred6))\n",
    "print(confusion_matrix(y_val, y_pred6))\n",
    "print(\"Classification Report for K =35\\n\", classification_report(y_val, y_pred6))\n",
    "#https://www.ritchieng.com/machine-learning-k-nearest-neighbors-knn/"
   ]
  },
  {
   "cell_type": "markdown",
   "metadata": {},
   "source": [
    "## Show the best one\n",
    "\n",
    "#Using minkowski distance, I choosed 3 different k-values which is 8,22,35 and fit for the training and testing and validation.\n",
    "\n",
    "\n",
    "#Based on the Accuracy, n_neighbors = 8 has 0.7922077922077922 more accuracy which is heighre than other."
   ]
  },
  {
   "cell_type": "markdown",
   "metadata": {},
   "source": [
    "# Plot the classifier in a 2D projection."
   ]
  },
  {
   "cell_type": "code",
   "execution_count": 21,
   "metadata": {},
   "outputs": [
    {
     "data": {
      "image/png": "[encoded data removed]",
      "text/plain": [
       "<Figure size 432x288 with 1 Axes>"
      ]
     },
     "metadata": {
      "needs_background": "light"
     },
     "output_type": "display_data"
    },
    {
     "name": "stdout",
     "output_type": "stream",
     "text": [
      "[0.68831169 0.70779221 0.75324675 0.75974026 0.74025974 0.75974026\n",
      " 0.77922078 0.79220779 0.77922078 0.77922078 0.76623377 0.74675325\n",
      " 0.75324675 0.77272727 0.76623377 0.75324675 0.72727273 0.74025974\n",
      " 0.72727273 0.72727273 0.73376623 0.72077922 0.72727273 0.73376623\n",
      " 0.73376623 0.72727273 0.72727273 0.72727273 0.72077922 0.72727273]\n"
     ]
    }
   ],
   "source": [
    "# Plotting K-value against respective accuracy score obtained from classifier corresponding to K = 8\n",
    "\n",
    "accuracy_rate=np.zeros(30)\n",
    "for n in range(1,31):\n",
    "    knn_acc=KNeighborsClassifier(n_neighbors=n)\n",
    "    knn_acc.fit(X_train,y_train)\n",
    "    pred_acc = knn_acc.predict(X_test)\n",
    "    accuracy_rate[n-1]=metrics.accuracy_score(y_test, pred_acc)\n",
    "    \n",
    "plt.plot(range(1,31),accuracy_rate,color='black', marker='o', markerfacecolor='red', markersize=8)\n",
    "plt.title('Accuracy Rate v/s K')\n",
    "plt.xlabel('K')\n",
    "plt.ylabel('Accuracy Rate')\n",
    "plt.show()\n",
    "print(accuracy_rate)\n",
    "#https://datascienceplus.com/k-nearest-neighbors-knn-with-python/"
   ]
  },
  {
   "cell_type": "code",
   "execution_count": 22,
   "metadata": {},
   "outputs": [
    {
     "data": {
      "image/png": "[encoded data removed]",
      "text/plain": [
       "<Figure size 432x288 with 1 Axes>"
      ]
     },
     "metadata": {
      "needs_background": "light"
     },
     "output_type": "display_data"
    }
   ],
   "source": [
    "# K value VS Accuracy\n",
    "no_neighbors = np.arange(1, 9)\n",
    "train_accuracy = np.empty(len(no_neighbors))\n",
    "test_accuracy = np.empty(len(no_neighbors))\n",
    "\n",
    "for i, k in enumerate(no_neighbors):\n",
    "    # We instantiate the classifier\n",
    "    knn = KNeighborsClassifier(n_neighbors=k)\n",
    "    # Fit the classifier to the training data\n",
    "    knn.fit(X_train,y_train)\n",
    "    \n",
    "    # Compute accuracy on the training set\n",
    "    train_accuracy[i] = knn.score(X_train, y_train)\n",
    "\n",
    "    # Compute accuracy on the testing set\n",
    "    test_accuracy[i] = knn.score(X_test, y_test)\n",
    "\n",
    "plt.title('k-NN: Varying Number of Neighbors')\n",
    "plt.plot(no_neighbors, test_accuracy, label = 'Testing Accuracy')\n",
    "plt.plot(no_neighbors, train_accuracy, label = 'Training Accuracy')\n",
    "plt.legend()\n",
    "plt.xlabel('Number of Neighbors')\n",
    "plt.ylabel('Accuracy')\n",
    "plt.show()\n",
    "#https://www.w3resource.com/machine-learning/scikit-learn/iris/python-machine-learning-k-nearest-neighbors-algorithm-exercise-8.php"
   ]
  },
  {
   "cell_type": "code",
   "execution_count": 23,
   "metadata": {},
   "outputs": [
    {
     "name": "stderr",
     "output_type": "stream",
     "text": [
      "C:\\Python\\lib\\site-packages\\seaborn\\axisgrid.py:316: UserWarning: The `size` parameter has been renamed to `height`; please update your code.\n",
      "  warnings.warn(msg, UserWarning)\n"
     ]
    },
    {
     "data": {
      "text/plain": [
       "<seaborn.axisgrid.FacetGrid at 0x1c76e5f8>"
      ]
     },
     "execution_count": 23,
     "metadata": {},
     "output_type": "execute_result"
    },
    {
     "data": {
      "image/png": "[encoded data removed]",
      "text/plain": [
       "<Figure size 474.375x432 with 1 Axes>"
      ]
     },
     "metadata": {
      "needs_background": "light"
     },
     "output_type": "display_data"
    }
   ],
   "source": [
    "## Distribution density plot KDE (kernel density estimate) between age and class\n",
    "#Plotting bivariate relations between each pair of features (4 features x4 so 16 graphs)with hue = \"class\"\n",
    "sns.FacetGrid(df, hue=\"class\", size=6) \\\n",
    "   .map(sns.kdeplot, \"age\") \\\n",
    "   .add_legend()\n",
    "#https://www.kaggle.com/code/grim1412/seaborn-visualization-and-knn-on-the-iris-dataset/notebook"
   ]
  },
  {
   "cell_type": "code",
   "execution_count": 24,
   "metadata": {},
   "outputs": [
    {
     "data": {
      "image/png": "[encoded data removed]",
      "text/plain": [
       "<Figure size 432x288 with 1 Axes>"
      ]
     },
     "metadata": {
      "needs_background": "light"
     },
     "output_type": "display_data"
    }
   ],
   "source": [
    "# Scatter and Violin Plot to visualise the class Rate density with respect to Plas\n",
    "\n",
    "ax = sns.violinplot(x=\"class\", y=\"Plas\", data=df,\n",
    "                    inner=None, color=\".8\")\n",
    "ax = sns.stripplot(x=\"class\", y=\"Plas\", data=df)\n",
    "#https://seaborn.pydata.org/generated/seaborn.stripplot.html\n",
    "#https://seaborn.pydata.org/generated/seaborn.violinplot.html"
   ]
  },
  {
   "cell_type": "code",
   "execution_count": 25,
   "metadata": {},
   "outputs": [
    {
     "data": {
      "text/plain": [
       "<AxesSubplot:xlabel='class', ylabel='test'>"
      ]
     },
     "execution_count": 25,
     "metadata": {},
     "output_type": "execute_result"
    },
    {
     "data": {
      "image/png": "[encoded data removed]",
      "text/plain": [
       "<Figure size 432x288 with 1 Axes>"
      ]
     },
     "metadata": {
      "needs_background": "light"
     },
     "output_type": "display_data"
    }
   ],
   "source": [
    "# Boxplot to visualise the class Rate density with respect to test\n",
    "\n",
    "sns.boxplot(x=\"class\", y=\"test\", data=df)\n",
    "#https://www.kaggle.com/code/grim1412/seaborn-visualization-and-knn-on-the-iris-dataset/notebook"
   ]
  },
  {
   "cell_type": "code",
   "execution_count": null,
   "metadata": {},
   "outputs": [],
   "source": []
  },
  {
   "cell_type": "code",
   "execution_count": null,
   "metadata": {},
   "outputs": [],
   "source": []
  },
  {
   "cell_type": "code",
   "execution_count": null,
   "metadata": {},
   "outputs": [],
   "source": []
  },
  {
   "cell_type": "code",
   "execution_count": null,
   "metadata": {},
   "outputs": [],
   "source": []
  },
  {
   "cell_type": "code",
   "execution_count": null,
   "metadata": {},
   "outputs": [],
   "source": []
  }
 ],
 "metadata": {
  "kernelspec": {
   "display_name": "Python 3",
   "language": "python",
   "name": "python3"
  },
  "language_info": {
   "codemirror_mode": {
    "name": "ipython",
    "version": 3
   },
   "file_extension": ".py",
   "mimetype": "text/x-python",
   "name": "python",
   "nbconvert_exporter": "python",
   "pygments_lexer": "ipython3",
   "version": "3.8.5"
  }
 },
 "nbformat": 4,
 "nbformat_minor": 4
}
